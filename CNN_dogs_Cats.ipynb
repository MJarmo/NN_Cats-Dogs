{
  "nbformat": 4,
  "nbformat_minor": 0,
  "metadata": {
    "colab": {
      "name": "CNN_dogs_Cats.ipynb",
      "provenance": [],
      "collapsed_sections": []
    },
    "kernelspec": {
      "name": "python3",
      "display_name": "Python 3"
    }
  },
  "cells": [
    {
      "cell_type": "code",
      "metadata": {
        "id": "SMHiZe54KY4h",
        "colab_type": "code",
        "colab": {}
      },
      "source": [
        "%%bash\n",
        "rm -rf /content/*"
      ],
      "execution_count": 0,
      "outputs": []
    },
    {
      "cell_type": "code",
      "metadata": {
        "id": "w4JgZraILUH0",
        "colab_type": "code",
        "colab": {}
      },
      "source": [
        "import os\n",
        "import shutil\n",
        "import matplotlib.pyplot as plt\n",
        "import seaborn as sns\n",
        "sns.set()\n",
        "import warnings\n",
        "warnings.filterwarnings('ignore')\n"
      ],
      "execution_count": 0,
      "outputs": []
    },
    {
      "cell_type": "code",
      "metadata": {
        "id": "RTfnXar1LoZG",
        "colab_type": "code",
        "outputId": "e7349502-e93c-42f4-836f-1bf48c13be66",
        "colab": {
          "base_uri": "https://localhost:8080/",
          "height": 52
        }
      },
      "source": [
        "%%bash\n",
        "pwd\n",
        "wget --output-document=cats_and_dogs.zip --quiet https://ml-repository-krakers.s3-eu-west-1.amazonaws.com/kaggle+/cats_and_dogs/dogs-vs-cats.zip\n",
        "ls"
      ],
      "execution_count": 0,
      "outputs": [
        {
          "output_type": "stream",
          "text": [
            "/content\n",
            "cats_and_dogs.zip\n"
          ],
          "name": "stdout"
        }
      ]
    },
    {
      "cell_type": "code",
      "metadata": {
        "id": "2ZYtKAFiL0wX",
        "colab_type": "code",
        "outputId": "f892994d-669e-46cc-c40f-761e5c42a962",
        "colab": {
          "base_uri": "https://localhost:8080/",
          "height": 193
        }
      },
      "source": [
        "%%bash \n",
        "\n",
        "unzip -n cats_and_dogs.zip\n",
        "rm -rf sampleSubmission.csv\n",
        "\n",
        "unzip -q -o train.zip -d /content/kaggle_original_data\n",
        "rm -rf train.zip\n",
        "cp /content/kaggle_original_data/train/* /content/kaggle_original_data\n",
        "rm -rf /content/kaggle_original_data/train\n",
        "\n",
        "unzip -q -n /content/test1.zip\n",
        "ls"
      ],
      "execution_count": 28,
      "outputs": [
        {
          "output_type": "stream",
          "text": [
            "Archive:  cats_and_dogs.zip\n",
            "  inflating: sampleSubmission.csv    \n",
            "  inflating: train.zip               \n",
            "ain.zip\n",
            "ampleSubmission.csv\n",
            "cats_and_dogs\n",
            "cats_and_dogs.zip\n",
            "kaggle_original_data\n",
            "test1\n",
            "test1.zip\n"
          ],
          "name": "stdout"
        }
      ]
    },
    {
      "cell_type": "code",
      "metadata": {
        "id": "52VhFf0WZqVV",
        "colab_type": "code",
        "colab": {}
      },
      "source": [
        "def make_acc_plot(history):\n",
        "  acc,val_acc = history.history['acc'], history.history['val_acc']\n",
        "  epochs= range(1, len(acc) + 1)\n",
        "  \n",
        "  plt.figure(figsize=(10,8))\n",
        "  plt.plot(epochs, acc, label='Accuracyty of training', marker = 'o')\n",
        "  plt.plot(epochs, val_acc, label='Accuracyty of validation', marker ='o')\n",
        "  plt.legend()\n",
        "  plt.title('Accuracyty of training and validation')\n",
        "  plt.xlabel('Epoks')\n",
        "  plt.ylabel('Accuracyty')\n",
        "  plt.show()\n",
        "  \n",
        "  def make_loss_plt(history):\n",
        "    loss, val_loss = history.history['loss'], history.history['val_loss']\n",
        "    epochs = range(1, len(loss)+1)\n",
        "    plt.figure(figsize=(10,8))\n",
        "    plt.plot(epochs, loss, label='Loss of training', marker = 'o')\n",
        "    plt.plot(epochs, val_loss, label='Loss of validation', marker ='o')\n",
        "    plt.legend()\n",
        "    plt.title('Loss of training and validation')\n",
        "    plt.xlabel('Epoks')\n",
        "    plt.ylabel('Loss')\n",
        "    plt.show()\n",
        "    \n",
        "  def display_aug_images(directory, index):\n",
        "    fnames = [os.path.join(directory,fname) for fname in os.listdir(directory)]\n",
        "    img_path = fnames[index]\n",
        "    img = image.load_img(img_path, target_size =(150,150))\n",
        "    x = image.img_to_array(img)\n",
        "    x = x.reshape((1, ) + x.shape)\n",
        "    i=1\n",
        "    plt.figure(figsize=(20,14))\n",
        "    for batch in datagen.flow(x, batch_size=1):\n",
        "      plt.subplot(3,4,i)\n",
        "      plt.grid(False)\n",
        "      imgplot = plt.imshow(image.array_to_img(batch[0]))\n",
        "      i += 1\n",
        "      if i % 13 ==0:\n",
        "        break\n",
        "    \n",
        "  "
      ],
      "execution_count": 0,
      "outputs": []
    },
    {
      "cell_type": "code",
      "metadata": {
        "id": "r8DAMhIjnFMI",
        "colab_type": "code",
        "colab": {}
      },
      "source": [
        "original_dataset_dir = '/content/kaggle_original_data'\n",
        "\n",
        "base_dir = '/content/cats_and_dogs'\n",
        "if not os.path.exists(base_dir):\n",
        "  os.mkdir(base_dir)\n",
        "  \n",
        "train_dir = os.path.join(base_dir, 'train') #zbior treningowe\n",
        "valid_dir = os.path.join(base_dir, 'valid') #zbior walidacyjny\n",
        "test_dir = os.path.join(base_dir, 'test') # zbior testowy\n",
        "\n",
        "for directory in (train_dir, valid_dir, test_dir):\n",
        "  if not os.path.exists(directory):\n",
        "    os.mkdir(directory)\n",
        "    \n",
        "train_cats_dir = os.path.join(train_dir, 'cats')\n",
        "train_dogs_dir = os.path.join(train_dir, 'dogs')\n",
        "\n",
        "valid_cats_dir = os.path.join(valid_dir, 'cats')\n",
        "valid_dogs_dir = os.path.join(valid_dir, 'dogs')\n",
        "\n",
        "test_cats_dir = os.path.join(test_dir, 'cats')\n",
        "test_dogs_dir = os.path.join(test_dir, 'dogs')\n",
        "\n",
        "dirs = [train_cats_dir, train_dogs_dir, valid_cats_dir, valid_dogs_dir, test_cats_dir, test_dogs_dir]\n",
        "\n",
        "for directory in dirs:\n",
        "  if not os.path.exists(directory):\n",
        "    os.mkdir(directory)\n",
        "  "
      ],
      "execution_count": 0,
      "outputs": []
    },
    {
      "cell_type": "code",
      "metadata": {
        "id": "vBgIfmEdUu3s",
        "colab_type": "code",
        "colab": {
          "base_uri": "https://localhost:8080/",
          "height": 34
        },
        "outputId": "b743df78-6a32-469c-c793-d0fee8292188"
      },
      "source": [
        "fnames = ['']"
      ],
      "execution_count": 26,
      "outputs": [
        {
          "output_type": "stream",
          "text": [
            "/content\n"
          ],
          "name": "stdout"
        }
      ]
    }
  ]
}